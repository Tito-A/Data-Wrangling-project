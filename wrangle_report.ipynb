{
 "cells": [
  {
   "cell_type": "markdown",
   "metadata": {},
   "source": [
    "## Reporting: wragle_report\n",
    "* Create a **300-600 word written report** called \"wrangle_report.pdf\" or \"wrangle_report.html\" that briefly describes your wrangling efforts. This is to be framed as an internal document."
   ]
  },
  {
   "cell_type": "markdown",
   "metadata": {},
   "source": [
    "    WeRateDogs Twitter data is used in this project. I gathered 3 datasets: twitter_archive_enhanced.csv, image_predictions.tsv, and tweeet_json.txt.  The first one was made available and i just uploaded the file and read into it. i used requests library to download the second dataset. The third was meant to gathered by querying the twitter api, but since i was not given access to twitter api i had to use the alternate method. In which i used the provided tweet_json.txt file to gather the data into a dataframe.\n",
    "        With all three datasets gathered, i proceeded to access the datasets. Twitter_archive_enhanced.csv became twitter_archive, image_predictions.tsv became image_df and tweet_json.txt was gathered into tweet_df dataframe. i accessed the dataframes both pragmatically in the notebook and visually using excel and notepad on my system and made note of 8 quality issues and 2 tidiness issues. I then proceeded to clean the issues using define code test technique.\n",
    "        \n",
    "        I had quite a lot of issues defining my codes to do exactly what i want with the datasets. For example in trying to make the four dog stage columns into one, i tried various methods. Using the melt function gave duplicated data rows which is just another issue to fix. Using if statement to take a count of the rows will omit the rows with multiple dog_stages stated in the text. Finally i found the lambda apply join statement which did exactly what i wanted. But then another issue arose, the 'None' statement in these columns. I managed to fix all the isssues which are well documented in the notebook and i went on to make visualizations.\n",
    "        In the process of analysing the data i realised new issues with my dataset and had to go back to assessing and cleaning my dataset. Once fixed, i finally made insights concerning the dog_stages in particular. "
   ]
  },
  {
   "cell_type": "code",
   "execution_count": null,
   "metadata": {},
   "outputs": [],
   "source": []
  }
 ],
 "metadata": {
  "kernelspec": {
   "display_name": "Python 3",
   "language": "python",
   "name": "python3"
  },
  "language_info": {
   "codemirror_mode": {
    "name": "ipython",
    "version": 3
   },
   "file_extension": ".py",
   "mimetype": "text/x-python",
   "name": "python",
   "nbconvert_exporter": "python",
   "pygments_lexer": "ipython3",
   "version": "3.6.3"
  }
 },
 "nbformat": 4,
 "nbformat_minor": 2
}
