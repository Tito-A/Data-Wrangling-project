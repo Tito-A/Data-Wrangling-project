{
 "cells": [
  {
   "cell_type": "markdown",
   "metadata": {},
   "source": [
    "## Report: act_report\n",
    "* Create a **250-word-minimum written report** called \"act_report.pdf\" or \"act_report.html\" that communicates the insights and displays the visualization(s) produced from your wrangled data. This is to be framed as an external document, like a blog post or magazine article, for example."
   ]
  },
  {
   "cell_type": "markdown",
   "metadata": {},
   "source": [
    "        WeRateDogs Twitter data is used in this project. I gathered 3 datasets: twitter_archive_enhanced.csv, image_predictions.tsv, and tweeet_json.txt.  The first one was made available and i just uploaded the file and read into it. i used requests library to download the second dataset. The third was meant to gathered by querying the twitter api, but since i was not given access to twitter api i had to use the alternate method. In which i used the provided tweet_json.txt file to gather the data into a dataframe.\n",
    "        With all three datasets gathered, i proceeded to access the datasets. Twitter_archive_enhanced.csv became twitter_archive, image_predictions.tsv became image_df and tweet_json.txt was gathered into tweet_df dataframe. i accessed the dataframes both pragmatically in the notebook and visually using excel and notepad on my system and made note of 8 quality issues and 2 tidiness issues. I then proceeded to clean the issues using define code test technique. i had quite a lot of issues defining my codes to do exactly what i want with the datasets but i finally finished and went on to make visualizations.\n",
    "        While cleaning the datasets i wondered how the dog stage could affect how liked a tweet about the dog. Are people more likely to like a tweet and retweet or just like it and pass? which dog stage had the most tweets. The average vote number overall and also can i trust the predictions to be accurate.\n",
    "        In the process of analysing the data i realised new issues with my dataset and had to go back to assessing and cleaning my dataset. once fixed, i finally made insights concerning the dog_stages in particular. All this can be seen in the wrangle_act.ipynb.\n",
    "        You must be wondering the end result of my analysis already. Well, i discovered pupper is the most tweeted dog_stage and favvorite_count was higher than retweet count generally. I guess people are too busy admiring the dog pictures they forget to retweet or they just would rather not share such cuteness on their timeline. I also made insights into which dog_stage has the most average retweets. Take a guess...Nope it's not pupper...It was doggo puppo, and it also had the highest average favorite_count. Seems people like the younger stages of the dogs especially the doggo stage.\n",
    "        You can check in detail the insights made in the python notebook. Enjoy."
   ]
  }
 ],
 "metadata": {
  "kernelspec": {
   "display_name": "Python 3",
   "language": "python",
   "name": "python3"
  },
  "language_info": {
   "codemirror_mode": {
    "name": "ipython",
    "version": 3
   },
   "file_extension": ".py",
   "mimetype": "text/x-python",
   "name": "python",
   "nbconvert_exporter": "python",
   "pygments_lexer": "ipython3",
   "version": "3.6.3"
  }
 },
 "nbformat": 4,
 "nbformat_minor": 2
}
